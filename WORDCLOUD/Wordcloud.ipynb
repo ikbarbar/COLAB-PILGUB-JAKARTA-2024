{
  "nbformat": 4,
  "nbformat_minor": 0,
  "metadata": {
    "colab": {
      "provenance": [],
      "authorship_tag": "ABX9TyOL3wFs6sI48TcT09VTYiOc"
    },
    "kernelspec": {
      "name": "python3",
      "display_name": "Python 3"
    },
    "language_info": {
      "name": "python"
    }
  },
  "cells": [
    {
      "cell_type": "code",
      "execution_count": null,
      "metadata": {
        "id": "nu3yFaN3P-Mo"
      },
      "outputs": [],
      "source": [
        "!pip install pandas wordcloud matplotlib"
      ]
    },
    {
      "cell_type": "code",
      "source": [
        "import pandas as pd\n",
        "def load_data():\n",
        "  data = pd.read_csv('stemming.csv')\n",
        "  return data"
      ],
      "metadata": {
        "id": "me_T_anDQEV5"
      },
      "execution_count": null,
      "outputs": []
    },
    {
      "cell_type": "code",
      "source": [
        "tweet_df = load_data()\n",
        "tweet_df"
      ],
      "metadata": {
        "id": "QfvP0dKPQHuI"
      },
      "execution_count": null,
      "outputs": []
    },
    {
      "cell_type": "code",
      "source": [
        "tweet_df = tweet_df.drop(columns=['username','Tanggal\\nKomentar', 'Jumlah Like', 'Komentar', 'remove_http', 'clean_tweet', 'removing_hastag', 'case_folding', 'stopword_removed', 'tokenized'])"
      ],
      "metadata": {
        "id": "qoZ56NB7QJbr"
      },
      "execution_count": null,
      "outputs": []
    },
    {
      "cell_type": "code",
      "source": [
        "tweet_df"
      ],
      "metadata": {
        "id": "Hrnx_aBvQLhU"
      },
      "execution_count": null,
      "outputs": []
    },
    {
      "cell_type": "code",
      "source": [
        "import pandas as pd\n",
        "from wordcloud import WordCloud\n",
        "import matplotlib.pyplot as plt\n",
        "\n",
        "# Filter hanya baris dengan sentimen positif\n",
        "tweet_df_positif = tweet_df[tweet_df['Jenis Sentimen'].str.lower() == 'positif']  # Pastikan lowercase untuk konsistensi\n",
        "\n",
        "# Gabungkan semua teks dari kolom 'deskripsi'\n",
        "text_positif = ' '.join(tweet_df_positif['stemmed'].dropna().astype(str))\n",
        "\n",
        "# Buat WordCloud\n",
        "wordcloud_positif = WordCloud(\n",
        "    width=800,\n",
        "    height=400,\n",
        "    background_color='white',\n",
        "    colormap='Greens'\n",
        ").generate(text_positif)\n",
        "\n",
        "# Tampilkan WordCloud\n",
        "plt.figure(figsize=(10, 5))\n",
        "plt.imshow(wordcloud_positif, interpolation='bilinear')\n",
        "plt.axis('off')\n",
        "plt.title(\"Positif\", fontsize=16)\n",
        "plt.show()"
      ],
      "metadata": {
        "id": "xp0IcTaeQOVa"
      },
      "execution_count": null,
      "outputs": []
    },
    {
      "cell_type": "code",
      "source": [
        "import pandas as pd\n",
        "from wordcloud import WordCloud\n",
        "import matplotlib.pyplot as plt\n",
        "\n",
        "# Filter hanya baris dengan sentimen positif\n",
        "tweet_df_positif = tweet_df[tweet_df['Jenis Sentimen'].str.lower() == 'negatif']  # Pastikan lowercase untuk konsistensi\n",
        "\n",
        "# Gabungkan semua teks dari kolom 'deskripsi'\n",
        "text_positif = ' '.join(tweet_df_positif['stemmed'].dropna().astype(str))\n",
        "\n",
        "# Buat WordCloud\n",
        "wordcloud_positif = WordCloud(\n",
        "    width=800,\n",
        "    height=400,\n",
        "    background_color='white',\n",
        "    colormap='Reds'\n",
        ").generate(text_positif)\n",
        "\n",
        "# Tampilkan WordCloud\n",
        "plt.figure(figsize=(10, 5))\n",
        "plt.imshow(wordcloud_positif, interpolation='bilinear')\n",
        "plt.axis('off')\n",
        "plt.title(\"Negatif\", fontsize=16)\n",
        "plt.show()\n"
      ],
      "metadata": {
        "id": "NODTLMz3QTbQ"
      },
      "execution_count": null,
      "outputs": []
    },
    {
      "cell_type": "code",
      "source": [
        "import pandas as pd\n",
        "from wordcloud import WordCloud\n",
        "import matplotlib.pyplot as plt\n",
        "\n",
        "# Filter hanya baris dengan sentimen positif\n",
        "tweet_df_positif = tweet_df[tweet_df['Jenis Sentimen'].str.lower() == 'netral']  # Pastikan lowercase untuk konsistensi\n",
        "\n",
        "# Gabungkan semua teks dari kolom 'deskripsi'\n",
        "text_positif = ' '.join(tweet_df_positif['stemmed'].dropna().astype(str))\n",
        "\n",
        "# Buat WordCloud\n",
        "wordcloud_positif = WordCloud(\n",
        "    width=800,\n",
        "    height=400,\n",
        "    background_color='white',\n",
        "    colormap='Blues'\n",
        ").generate(text_positif)\n",
        "\n",
        "# Tampilkan WordCloud\n",
        "plt.figure(figsize=(10, 5))\n",
        "plt.imshow(wordcloud_positif, interpolation='bilinear')\n",
        "plt.axis('off')\n",
        "plt.title(\"Netral\", fontsize=16)\n",
        "plt.show()"
      ],
      "metadata": {
        "id": "_knlwtTYQVWJ"
      },
      "execution_count": null,
      "outputs": []
    }
  ]
}