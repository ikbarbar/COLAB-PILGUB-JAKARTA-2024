{
  "nbformat": 4,
  "nbformat_minor": 0,
  "metadata": {
    "colab": {
      "provenance": [],
      "authorship_tag": "ABX9TyNh07HzQS8C0LdEtgDQpMaU"
    },
    "kernelspec": {
      "name": "python3",
      "display_name": "Python 3"
    },
    "language_info": {
      "name": "python"
    }
  },
  "cells": [
    {
      "cell_type": "code",
      "execution_count": null,
      "metadata": {
        "id": "ic4K62CjOZvo"
      },
      "outputs": [],
      "source": [
        "import pandas as pd\n",
        "def load_data():\n",
        "  data = pd.read_csv('stemming.csv')\n",
        "  return data"
      ]
    },
    {
      "cell_type": "code",
      "source": [
        "tweet_df = load_data()\n",
        "tweet_df"
      ],
      "metadata": {
        "id": "BnRsc8feOs3K"
      },
      "execution_count": null,
      "outputs": []
    },
    {
      "cell_type": "code",
      "source": [
        "tweet_df = tweet_df.drop(columns=['username','Tanggal\\nKomentar', 'Jumlah Like', 'Komentar', 'remove_http', 'clean_tweet', 'removing_hastag', 'case_folding', 'stopword_removed', 'tokenized'])"
      ],
      "metadata": {
        "id": "nV9uUVKvOxQH"
      },
      "execution_count": null,
      "outputs": []
    },
    {
      "cell_type": "code",
      "source": [
        "tweet_df"
      ],
      "metadata": {
        "id": "6P6WnZbxOzuh"
      },
      "execution_count": null,
      "outputs": []
    },
    {
      "cell_type": "code",
      "source": [
        "# 1. Import Library\n",
        "import pandas as pd\n",
        "import matplotlib.pyplot as plt\n",
        "import seaborn as sns\n",
        "\n",
        "from sklearn.feature_extraction.text import TfidfVectorizer\n",
        "from sklearn.model_selection import train_test_split\n",
        "from sklearn.naive_bayes import MultinomialNB\n",
        "from sklearn.metrics import (\n",
        "    classification_report,\n",
        "    accuracy_score,\n",
        "    confusion_matrix,\n",
        "    ConfusionMatrixDisplay\n",
        ")\n",
        "\n",
        "# 2. TF-IDF\n",
        "vectorizer = TfidfVectorizer()\n",
        "X = vectorizer.fit_transform(tweet_df['stemmed'])\n",
        "y = tweet_df['Jenis Sentimen']\n",
        "\n",
        "# 3. Split data 90:10\n",
        "X_train, X_test, y_train, y_test = train_test_split(\n",
        "    X, y, test_size=0.1, random_state=42\n",
        ")\n",
        "\n",
        "# 4. Train Model Naive Bayes\n",
        "model = MultinomialNB()\n",
        "model.fit(X_train, y_train)\n",
        "\n",
        "# 5. Predict\n",
        "y_pred = model.predict(X_test)\n",
        "\n",
        "# 6. Evaluasi\n",
        "print(\"=== Evaluasi Model ===\")\n",
        "print(classification_report(y_test, y_pred))\n",
        "print(\"Akurasi:\", accuracy_score(y_test, y_pred))\n",
        "\n",
        "from sklearn.metrics import confusion_matrix, ConfusionMatrixDisplay\n",
        "import matplotlib.pyplot as plt\n",
        "\n",
        "# 7. Define Label\n",
        "labels = [\"Positif\", \"Negatif\", \"Netral\"]\n",
        "\n",
        "# 8. Buat confusion matrix\n",
        "cm = confusion_matrix(y_test, y_pred, labels=labels)\n",
        "disp = ConfusionMatrixDisplay(confusion_matrix=cm, display_labels=labels)\n",
        "\n",
        "# 9. Visualisasi Confusion Matrix\n",
        "plt.figure(figsize=(6, 5))  # Ukuran lebih besar untuk 3x3\n",
        "disp.plot(cmap='Blues', values_format='d')\n",
        "plt.title(\"Confusion Matrix: Positif, Negatif, Netral\")\n",
        "plt.grid(False)\n",
        "plt.show()\n",
        "\n",
        "# 10. Simpan hasil prediksi ke DataFrame baru\n",
        "tweet_df_test = tweet_df.iloc[y_test.index].copy()\n",
        "tweet_df_test['predicted_label'] = y_pred\n",
        "\n",
        "# 11. Tampilkan hasil\n",
        "print(\"\\n=== Hasil Data Terbaru ===\")\n",
        "print(tweet_df_test.head())"
      ],
      "metadata": {
        "id": "DrBu6HSFO3g1"
      },
      "execution_count": null,
      "outputs": []
    },
    {
      "cell_type": "code",
      "source": [
        "# 1. Import Library\n",
        "import pandas as pd\n",
        "import matplotlib.pyplot as plt\n",
        "import seaborn as sns\n",
        "\n",
        "from sklearn.feature_extraction.text import TfidfVectorizer\n",
        "from sklearn.model_selection import train_test_split\n",
        "from sklearn.naive_bayes import MultinomialNB\n",
        "from sklearn.metrics import (\n",
        "    classification_report,\n",
        "    accuracy_score,\n",
        "    confusion_matrix,\n",
        "    ConfusionMatrixDisplay\n",
        ")\n",
        "\n",
        "# 2. TF-IDF\n",
        "vectorizer = TfidfVectorizer()\n",
        "X = vectorizer.fit_transform(tweet_df['stemmed'])\n",
        "y = tweet_df['Jenis Sentimen']\n",
        "\n",
        "# 3. Split data 80:20\n",
        "X_train, X_test, y_train, y_test = train_test_split(\n",
        "    X, y, test_size=0.2, random_state=42\n",
        ")\n",
        "\n",
        "# 4. Train Model Naive Bayes\n",
        "model = MultinomialNB()\n",
        "model.fit(X_train, y_train)\n",
        "\n",
        "# 5. Predict\n",
        "y_pred = model.predict(X_test)\n",
        "\n",
        "# 6. Evaluasi\n",
        "print(\"=== Evaluasi Model ===\")\n",
        "print(classification_report(y_test, y_pred))\n",
        "print(\"Akurasi:\", accuracy_score(y_test, y_pred))\n",
        "\n",
        "from sklearn.metrics import confusion_matrix, ConfusionMatrixDisplay\n",
        "import matplotlib.pyplot as plt\n",
        "\n",
        "# 7. Define Label\n",
        "labels = [\"Positif\", \"Negatif\", \"Netral\"]\n",
        "\n",
        "# 8. Buat confusion matrix\n",
        "cm = confusion_matrix(y_test, y_pred, labels=labels)\n",
        "disp = ConfusionMatrixDisplay(confusion_matrix=cm, display_labels=labels)\n",
        "\n",
        "# 9. Visualisasi Confusion Matrix\n",
        "plt.figure(figsize=(6, 5))  # Ukuran lebih besar untuk 3x3\n",
        "disp.plot(cmap='Blues', values_format='d')\n",
        "plt.title(\"Confusion Matrix: Positif, Negatif, Netral\")\n",
        "plt.grid(False)\n",
        "plt.show()\n",
        "\n",
        "# 10. Simpan hasil prediksi ke DataFrame baru\n",
        "tweet_df_test = tweet_df.iloc[y_test.index].copy()\n",
        "tweet_df_test['predicted_label'] = y_pred\n",
        "\n",
        "# 11. Tampilkan hasil\n",
        "print(\"\\n=== Hasil Data Terbaru ===\")\n",
        "print(tweet_df_test.head())"
      ],
      "metadata": {
        "id": "WRX3g8c3PTVh"
      },
      "execution_count": null,
      "outputs": []
    },
    {
      "cell_type": "code",
      "source": [
        "# 1. Import Library\n",
        "import pandas as pd\n",
        "import matplotlib.pyplot as plt\n",
        "import seaborn as sns\n",
        "\n",
        "from sklearn.feature_extraction.text import TfidfVectorizer\n",
        "from sklearn.model_selection import train_test_split\n",
        "from sklearn.naive_bayes import MultinomialNB\n",
        "from sklearn.metrics import (\n",
        "    classification_report,\n",
        "    accuracy_score,\n",
        "    confusion_matrix,\n",
        "    ConfusionMatrixDisplay\n",
        ")\n",
        "\n",
        "# 2. TF-IDF\n",
        "vectorizer = TfidfVectorizer()\n",
        "X = vectorizer.fit_transform(tweet_df['stemmed'])\n",
        "y = tweet_df['Jenis Sentimen']\n",
        "\n",
        "# 3. Split data 70:30\n",
        "X_train, X_test, y_train, y_test = train_test_split(\n",
        "    X, y, test_size=0.3, random_state=42\n",
        ")\n",
        "\n",
        "# 4. Train Model Naive Bayes\n",
        "model = MultinomialNB()\n",
        "model.fit(X_train, y_train)\n",
        "\n",
        "# 5. Predict\n",
        "y_pred = model.predict(X_test)\n",
        "\n",
        "# 6. Evaluasi\n",
        "print(\"=== Evaluasi Model ===\")\n",
        "print(classification_report(y_test, y_pred))\n",
        "print(\"Akurasi:\", accuracy_score(y_test, y_pred))\n",
        "\n",
        "from sklearn.metrics import confusion_matrix, ConfusionMatrixDisplay\n",
        "import matplotlib.pyplot as plt\n",
        "\n",
        "# 7. Define Label\n",
        "labels = [\"Positif\", \"Negatif\", \"Netral\"]\n",
        "\n",
        "# 8. Buat confusion matrix\n",
        "cm = confusion_matrix(y_test, y_pred, labels=labels)\n",
        "disp = ConfusionMatrixDisplay(confusion_matrix=cm, display_labels=labels)\n",
        "\n",
        "# 9. Visualisasi Confusion Matrix\n",
        "plt.figure(figsize=(6, 5))  # Ukuran lebih besar untuk 3x3\n",
        "disp.plot(cmap='Blues', values_format='d')\n",
        "plt.title(\"Confusion Matrix: Positif, Negatif, Netral\")\n",
        "plt.grid(False)\n",
        "plt.show()\n",
        "\n",
        "# 10. Simpan hasil prediksi ke DataFrame baru\n",
        "tweet_df_test = tweet_df.iloc[y_test.index].copy()\n",
        "tweet_df_test['predicted_label'] = y_pred\n",
        "\n",
        "# 11. Tampilkan hasil\n",
        "print(\"\\n=== Hasil Data Terbaru ===\")\n",
        "print(tweet_df_test.head())"
      ],
      "metadata": {
        "id": "t1uFy3PaPXnV"
      },
      "execution_count": null,
      "outputs": []
    },
    {
      "cell_type": "code",
      "source": [
        "# 10. Simpan ke CSV\n",
        "tweet_df_test.to_csv('hasil skenario.csv', index=False)\n",
        "print(\"\\n✅ Hasil klasifikasi disimpan ke 'hasil skenario.csv'\")"
      ],
      "metadata": {
        "id": "PHMYrBUrPdXT"
      },
      "execution_count": null,
      "outputs": []
    }
  ]
}