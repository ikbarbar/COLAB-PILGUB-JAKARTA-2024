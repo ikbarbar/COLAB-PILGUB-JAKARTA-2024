{
  "nbformat": 4,
  "nbformat_minor": 0,
  "metadata": {
    "colab": {
      "provenance": [],
      "authorship_tag": "ABX9TyOhFjBK07iWK9QwIyUvEDGq"
    },
    "kernelspec": {
      "name": "python3",
      "display_name": "Python 3"
    },
    "language_info": {
      "name": "python"
    }
  },
  "cells": [
    {
      "cell_type": "code",
      "execution_count": null,
      "metadata": {
        "id": "0JFCvTkgLSSQ"
      },
      "outputs": [],
      "source": [
        "import pandas as pd\n",
        "def load_data():\n",
        "  data = pd.read_csv('stemming.csv')\n",
        "  return data"
      ]
    },
    {
      "cell_type": "code",
      "source": [
        "tweet_df = load_data()\n",
        "tweet_df"
      ],
      "metadata": {
        "id": "POAsqNiwLcOu"
      },
      "execution_count": null,
      "outputs": []
    },
    {
      "cell_type": "code",
      "source": [
        "tweet_df = tweet_df.drop(columns=['username','Tanggal\\nKomentar', 'Jumlah Like',\t'Komentar',\t'clean_tweet',\t'remove_http',\t'removing_hastag',\t'case_folding',\t'stopword_removed', 'tokenized'])"
      ],
      "metadata": {
        "id": "b6rvG-cTLgRV"
      },
      "execution_count": null,
      "outputs": []
    },
    {
      "cell_type": "code",
      "source": [
        "# Import library yang dibutuhkan\n",
        "import pandas as pd\n",
        "from sklearn.feature_extraction.text import TfidfVectorizer\n",
        "\n",
        "# Inisialisasi TF-IDF Vectorizer\n",
        "vectorizer = TfidfVectorizer()\n",
        "\n",
        "# Lakukan transformasi TF-IDF\n",
        "tfidf_matrix = vectorizer.fit_transform(tweet_df['stemmed'])\n",
        "\n",
        "# Konversi hasil TF-IDF ke DataFrame\n",
        "tfidf_df = pd.DataFrame(tfidf_matrix.toarray(), columns=vectorizer.get_feature_names_out())\n",
        "\n",
        "# Gabungkan hasil TF-IDF ke DataFrame utama (opsional)\n",
        "result_df = pd.concat([tweet_df, tfidf_df], axis=1)\n",
        "\n",
        "# Tampilkan data hasil TF-IDF\n",
        "print(result_df.head())"
      ],
      "metadata": {
        "id": "jmpUBitbLiRF"
      },
      "execution_count": null,
      "outputs": []
    },
    {
      "cell_type": "code",
      "source": [
        "result_df"
      ],
      "metadata": {
        "id": "TJB3fvhKLlfY"
      },
      "execution_count": null,
      "outputs": []
    },
    {
      "cell_type": "code",
      "source": [
        "# Asumsikan TF-IDF sudah dihitung sebelumnya\n",
        "# tfidf_matrix = vectorizer.fit_transform(tweet_df['stemmed'])\n",
        "\n",
        "# Cek dimensi matriks TF-IDF\n",
        "print(\"Dimensi Matriks TF-IDF:\")\n",
        "print(f\"{tfidf_matrix.shape[0]} dokumen (baris)\")\n",
        "print(f\"{tfidf_matrix.shape[1]} kata/fitur (kolom)\")\n",
        "print(\"\\nDaftar Kata/Term TF-IDF:\")\n",
        "print(sorted(vectorizer.get_feature_names_out()))"
      ],
      "metadata": {
        "id": "aKiCN-oTLnZz"
      },
      "execution_count": null,
      "outputs": []
    },
    {
      "cell_type": "code",
      "source": [
        "# Simpan hasil DataFrame ke file CSV\n",
        "result_df.to_csv('hasil_tfidf.csv', index=False)\n",
        "\n",
        "# Konfirmasi\n",
        "print(\"Data berhasil disimpan ke file 'hasil_tfidf.csv'\")\n",
        "\n",
        "from google.colab import files\n",
        "files.download('hasil_tfidf.csv')"
      ],
      "metadata": {
        "id": "jmGPPn6OLpeW"
      },
      "execution_count": null,
      "outputs": []
    }
  ]
}